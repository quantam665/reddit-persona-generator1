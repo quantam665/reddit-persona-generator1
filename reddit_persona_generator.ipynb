{
  "nbformat": 4,
  "nbformat_minor": 0,
  "metadata": {
    "colab": {
      "provenance": [],
      "authorship_tag": "ABX9TyPHCtcEAGlBFy2r7yzMoInY",
      "include_colab_link": true
    },
    "kernelspec": {
      "name": "python3",
      "display_name": "Python 3"
    },
    "language_info": {
      "name": "python"
    }
  },
  "cells": [
    {
      "cell_type": "markdown",
      "metadata": {
        "id": "view-in-github",
        "colab_type": "text"
      },
      "source": [
        "<a href=\"https://colab.research.google.com/github/quantam665/reddit-persona-generator1/blob/main/reddit_persona_generator.ipynb\" target=\"_parent\"><img src=\"https://colab.research.google.com/assets/colab-badge.svg\" alt=\"Open In Colab\"/></a>"
      ]
    },
    {
      "cell_type": "code",
      "execution_count": null,
      "metadata": {
        "id": "hNihlpocPkZG",
        "colab": {
          "base_uri": "https://localhost:8080/"
        },
        "outputId": "deb7fef4-c119-488f-b084-3757a89a2a2c",
        "collapsed": true
      },
      "outputs": [
        {
          "output_type": "stream",
          "name": "stderr",
          "text": [
            "WARNING:praw:It appears that you are using PRAW in an asynchronous environment.\n",
            "It is strongly recommended to use Async PRAW: https://asyncpraw.readthedocs.io.\n",
            "See https://praw.readthedocs.io/en/latest/getting_started/multiple_instances.html#discord-bots-and-asynchronous-environments for more info.\n",
            "\n"
          ]
        },
        {
          "output_type": "stream",
          "name": "stdout",
          "text": [
            "\n",
            "🔍 Generating persona for: kojied\n"
          ]
        },
        {
          "output_type": "stream",
          "name": "stderr",
          "text": [
            "WARNING:praw:It appears that you are using PRAW in an asynchronous environment.\n",
            "It is strongly recommended to use Async PRAW: https://asyncpraw.readthedocs.io.\n",
            "See https://praw.readthedocs.io/en/latest/getting_started/multiple_instances.html#discord-bots-and-asynchronous-environments for more info.\n",
            "\n"
          ]
        },
        {
          "output_type": "stream",
          "name": "stdout",
          "text": [
            "❌ Failed to fetch content for kojied: received 401 HTTP response\n",
            "⚠️ Not enough content to generate a useful persona.\n",
            "\n",
            "🔍 Generating persona for: Hungry-Move-6603\n",
            "❌ Failed to fetch content for Hungry-Move-6603: received 401 HTTP response\n",
            "⚠️ Not enough content to generate a useful persona.\n"
          ]
        }
      ],
      "source": [
        "# 🚀 Reddit Persona Generator using Gemini 2.0 Flash (One-Cell Script)\n",
        "\n",
        "# 📦 Install required packages\n",
        "!pip install -q google-generativeai praw\n",
        "\n",
        "# 🔐 Fill in your API credentials here\n",
        "REDDIT_CLIENT_ID = 'your_reddit_client_id'\n",
        "REDDIT_SECRET = 'your_reddit_secret'\n",
        "REDDIT_USERNAME = 'your_reddit_username'\n",
        "GEMINI_API_KEY = 'your_gemini_api_key'\n",
        "\n",
        "# =================== SETUP ===================\n",
        "import praw\n",
        "import google.generativeai as genai\n",
        "\n",
        "# 🔧 Configure Gemini API\n",
        "genai.configure(api_key=GEMINI_API_KEY)\n",
        "\n",
        "# 🔧 Set up Reddit client using PRAW\n",
        "reddit = praw.Reddit(\n",
        "    client_id=REDDIT_CLIENT_ID,\n",
        "    client_secret=REDDIT_SECRET,\n",
        "    user_agent=f\"script:persona.generator:v1.0 (by u/{REDDIT_USERNAME})\"\n",
        ")\n",
        "\n",
        "# =================== FETCH REDDIT DATA ===================\n",
        "def fetch_user_data(username, post_limit=20, comment_limit=20):\n",
        "    \"\"\"\n",
        "    Fetches recent posts and comments from a Reddit user.\n",
        "    \"\"\"\n",
        "    try:\n",
        "        redditor = reddit.redditor(username)\n",
        "        posts, comments = [], []\n",
        "\n",
        "        for submission in redditor.submissions.new(limit=post_limit):\n",
        "            posts.append({\n",
        "                \"type\": \"post\",\n",
        "                \"title\": submission.title,\n",
        "                \"text\": submission.selftext,\n",
        "                \"link\": f\"https://www.reddit.com{submission.permalink}\"\n",
        "            })\n",
        "\n",
        "        for comment in redditor.comments.new(limit=comment_limit):\n",
        "            comments.append({\n",
        "                \"type\": \"comment\",\n",
        "                \"text\": comment.body,\n",
        "                \"link\": f\"https://www.reddit.com{comment.permalink}\"\n",
        "            })\n",
        "\n",
        "        return posts, comments\n",
        "\n",
        "    except Exception as e:\n",
        "        print(f\"❌ Failed to fetch content for u/{username}: {e}\")\n",
        "        return [], []\n",
        "\n",
        "# =================== GENERATE PERSONA ===================\n",
        "def generate_persona(posts, comments):\n",
        "    \"\"\"\n",
        "    Uses Gemini to analyze a user's posts/comments and generate a persona.\n",
        "    \"\"\"\n",
        "    combined_text = \"\"\n",
        "    for item in posts + comments:\n",
        "        if item[\"type\"] == \"post\":\n",
        "            combined_text += f\"[POST] {item['title']}\\n{item['text']}\\n(Source: {item['link']})\\n\\n\"\n",
        "        else:\n",
        "            combined_text += f\"[COMMENT] {item['text']}\\n(Source: {item['link']})\\n\\n\"\n",
        "\n",
        "    prompt = f\"\"\"\n",
        "Based on the following Reddit posts and comments, generate a detailed user persona including:\n",
        "- Interests\n",
        "- Personality Traits\n",
        "- Political Views (if detectable)\n",
        "- Writing Style and Tone\n",
        "\n",
        "Cite specific posts/comments using (Source: ...) format.\n",
        "\n",
        "--- BEGIN TEXT ---\n",
        "{combined_text}\n",
        "--- END TEXT ---\n",
        "\"\"\"\n",
        "\n",
        "    try:\n",
        "        model = genai.GenerativeModel(\"gemini-1.5-flash\")\n",
        "        response = model.generate_content(prompt)\n",
        "        return response.text\n",
        "    except Exception as e:\n",
        "        print(f\"❌ Gemini API Error: {e}\")\n",
        "        return \"\"\n",
        "\n",
        "# =================== SAVE OUTPUT ===================\n",
        "def save_to_file(username, content):\n",
        "    \"\"\"\n",
        "    Saves the generated persona to a local text file.\n",
        "    \"\"\"\n",
        "    file_name = f\"{username}.txt\"\n",
        "    with open(file_name, \"w\", encoding=\"utf-8\") as f:\n",
        "        f.write(content)\n",
        "    print(f\"✅ Persona saved to {file_name}\")\n",
        "\n",
        "# =================== MAIN FUNCTION ===================\n",
        "def generate_reddit_persona(profile_url):\n",
        "    \"\"\"\n",
        "    Orchestrates the entire flow: fetch user → analyze → save persona.\n",
        "    \"\"\"\n",
        "    try:\n",
        "        username = profile_url.strip(\"/\").split(\"/\")[-1]\n",
        "        print(f\"\\n🔍 Generating persona for u/{username}...\")\n",
        "\n",
        "        posts, comments = fetch_user_data(username)\n",
        "\n",
        "        if len(posts) + len(comments) < 5:\n",
        "            print(\"⚠️ Not enough data to build a useful persona.\")\n",
        "            return\n",
        "\n",
        "        print(f\"📥 Fetched {len(posts)} posts and {len(comments)} comments.\")\n",
        "\n",
        "        persona = generate_persona(posts, comments)\n",
        "\n",
        "        if not persona.strip():\n",
        "            print(\"⚠️ Gemini returned empty or unusable output.\")\n",
        "            return\n",
        "\n",
        "        save_to_file(username, persona)\n",
        "        print(\"🎉 Persona generation complete!\")\n",
        "\n",
        "    except Exception as e:\n",
        "        print(f\"❌ Unexpected Error: {type(e).__name__} - {e}\")\n",
        "\n",
        "# =================== RUN GENERATOR ===================\n",
        "# 🔁 Add more Reddit profiles to analyze here\n",
        "generate_reddit_persona(\"https://www.reddit.com/user/kojied/\")\n",
        "generate_reddit_persona(\"https://www.reddit.com/user/Hungry-Move-6603/\")\n"
      ]
    }
  ]
}